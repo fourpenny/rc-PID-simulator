{
 "cells": [
  {
   "cell_type": "markdown",
   "metadata": {},
   "source": [
    "# PID Simulator\n",
    "\n",
    "Getting a better understanding of PID control algorithms by simulating the motors on a RoboCup SSL robot\n",
    "\n",
    "Details about RoboCup SSL are here:\n",
    "https://ssl.robocup.org/"
   ]
  },
  {
   "cell_type": "markdown",
   "metadata": {},
   "source": [
    "## Assumptions\n",
    "- All wheels will start and stop together\n",
    "- Only trying to move the robot in straight line\n",
    "\n",
    "## Formulas\n",
    "\n",
    "### Angular to Linear Velocity\n",
    "Follow angular to linear velocity to get speed from motor RPM and wheel size:\n",
    "\n",
    "$v = r \\times \\omega$\n",
    "\n",
    "where \\\n",
    "$v$ = linear velocity in m/s \\\n",
    "$r$ = radius, in m \\\n",
    "$\\omega$ = angular velocity in rad/s ($2\\pi$ times the RPM)\n",
    "\n",
    "### Rolling Resistance\n",
    "The force that resists the motion of a body on a rolling surface - has to be overcome before the \"robot\" starts moving \\\n",
    "More info here: https://www.engineeringtoolbox.com/rolling-friction-resistance-d_1303.html\n",
    "\n",
    "$F_r = cW$\n",
    "\n",
    "where \\\n",
    "$F_r$ = rolling resistance in N \\\n",
    "$c$ = coefficient of friction \\\n",
    "$W = ma_g$ (mass of the body in kg * the acceleration of gravity, 9.81m/s)"
   ]
  },
  {
   "cell_type": "code",
   "execution_count": null,
   "metadata": {
    "vscode": {
     "languageId": "plaintext"
    }
   },
   "outputs": [],
   "source": [
    "import parts"
   ]
  },
  {
   "cell_type": "code",
   "execution_count": null,
   "metadata": {
    "vscode": {
     "languageId": "plaintext"
    }
   },
   "outputs": [],
   "source": [
    "bot_body = parts.Body\n",
    "wheel = parts.Wheel\n",
    "motor = parts.Motor"
   ]
  }
 ],
 "metadata": {
  "language_info": {
   "name": "python"
  },
  "orig_nbformat": 4
 },
 "nbformat": 4,
 "nbformat_minor": 2
}
